{
 "cells": [
  {
   "cell_type": "code",
   "execution_count": 5,
   "metadata": {
    "id": "E1rIVBWXEGDk"
   },
   "outputs": [],
   "source": [
    "# Install dependencies\n",
    "!pip install -q amplpy"
   ]
  },
  {
   "cell_type": "code",
   "execution_count": 6,
   "metadata": {
    "colab": {
     "base_uri": "https://localhost:8080/",
     "height": 85,
     "referenced_widgets": [
      "180e1ab40d4a4a0ebebc8d23db5a0ae4",
      "c3f90c81945747b683577031aa09c8f0",
      "94d4ef931db7467799e59bfdf8b33590",
      "7430a87cef56440c9984a612081b48a7",
      "9de19619ea1f4ae3b0c7fe42d3326aa0",
      "be603c2754744206bf44d9660079220d",
      "3fc1fcef34c44558a3e81ab646c5b8cc",
      "6040c2a500904075b67af223b0ad17b6",
      "dc7ceea5173544e9962645ee55d9dcea",
      "b80fa6791a274b4f822d7cd630b92505",
      "d9ae709b159d42d98cfc00b68fe31bd2",
      "f5ca01c8bb224ed88be2d35c7e65d83b",
      "71b9a506611e4e7cb7f3434c42124690"
     ]
    },
    "id": "nfEw2ykQEGeK",
    "outputId": "6fe51059-7023-4a61-8a91-bb72e0a1cc0b"
   },
   "outputs": [
    {
     "data": {
      "application/vnd.jupyter.widget-view+json": {
       "model_id": "0eaaaad0e4fc43a1b3dddb183487c382",
       "version_major": 2,
       "version_minor": 0
      },
      "text/plain": [
       "VBox(children=(Output(), HBox(children=(Text(value='', description='License UUID:', style=TextStyle(descriptio…"
      ]
     },
     "metadata": {},
     "output_type": "display_data"
    }
   ],
   "source": [
    "# Google Colab & Kaggle integration\n",
    "from amplpy import AMPL, ampl_notebook\n",
    "\n",
    "ampl = ampl_notebook(\n",
    "    modules=[\"open\", \"gurobi\"],  # modules to install\n",
    "    license_uuid=\"default\",  # license to use\n",
    ")  # instantiate AMPL object and register magics"
   ]
  },
  {
   "cell_type": "code",
   "execution_count": 7,
   "metadata": {
    "id": "QRgCj6eREYNB"
   },
   "outputs": [],
   "source": [
    "%%ampl_eval\n",
    "# Sets\n",
    "set YEARS;\n",
    "set BONDS;\n",
    "\n",
    "# Parameters\n",
    "param Liability{YEARS};\n",
    "param Price{BONDS};\n",
    "param Coupon{BONDS};\n",
    "param Maturity{BONDS};\n",
    "\n",
    "# Decision Variables\n",
    "var Quantity{BONDS} >= 0;\n",
    "\n",
    "# Objective Function\n",
    "minimize TotalCost:\n",
    "    sum {b in BONDS} Price[b] * Quantity[b];\n",
    "\n",
    "# Constraints\n",
    "subject to CashFlowMatching{y in YEARS}:\n",
    "    sum {b in BONDS : Maturity[b] >= y} Coupon[b] * Quantity[b] + (sum {b in BONDS : Maturity[b] == y} Price[b] * Quantity[b]) = Liability[y];\n",
    "\n",
    "option solver gurobi;"
   ]
  },
  {
   "cell_type": "code",
   "execution_count": 8,
   "metadata": {
    "id": "pNkvsDEpEc9x"
   },
   "outputs": [],
   "source": [
    "%%ampl_eval\n",
    "\n",
    "# Data\n",
    "data;\n",
    "\n",
    "set YEARS := 1 2 3 4 5 6 7 8;\n",
    "set BONDS := 1 2 3 4 5 6 7 8 9 10;\n",
    "\n",
    "param Liability :=\n",
    "    1 12000\n",
    "    2 18000\n",
    "    3 20000\n",
    "    4 20000\n",
    "    5 16000\n",
    "    6 15000\n",
    "    7 12000\n",
    "    8 10000;\n",
    "\n",
    "param Price :=\n",
    "    1 102\n",
    "    2 99\n",
    "    3 101\n",
    "    4 98\n",
    "    5 98\n",
    "    6 104\n",
    "    7 100\n",
    "    8 101\n",
    "    9 102\n",
    "    10 94;\n",
    "\n",
    "param Coupon :=\n",
    "    1 5\n",
    "    2 3.5\n",
    "    3 5\n",
    "    4 3.5\n",
    "    5 4\n",
    "    6 9\n",
    "    7 6\n",
    "    8 8\n",
    "    9 9\n",
    "    10 7;\n",
    "\n",
    "param Maturity :=\n",
    "    1 1\n",
    "    2 2\n",
    "    3 2\n",
    "    4 3\n",
    "    5 4\n",
    "    6 5\n",
    "    7 5\n",
    "    8 6\n",
    "    9 7\n",
    "    10 8;"
   ]
  },
  {
   "cell_type": "code",
   "execution_count": 9,
   "metadata": {
    "colab": {
     "base_uri": "https://localhost:8080/"
    },
    "id": "XwhipvNiEkxZ",
    "outputId": "9e5174dc-8c3b-49ee-bfe5-ca0910f2da01"
   },
   "outputs": [
    {
     "name": "stdout",
     "output_type": "stream",
     "text": [
      "Gurobi 11.0.3:Gurobi 11.0.3: optimal solution; objective 94068.38837\n",
      "2 simplex iterations\n",
      "Quantity [*] :=\n",
      " 1   61.0916\n",
      " 2    0\n",
      " 3  124.127\n",
      " 4  154.668\n",
      " 5  160.192\n",
      " 6  118.649\n",
      " 7    0\n",
      " 8  122.845\n",
      " 9  101.864\n",
      "10   99.0099\n",
      ";\n",
      "\n"
     ]
    }
   ],
   "source": [
    "%%ampl_eval\n",
    "solve;\n",
    "display Quantity;"
   ]
  }
 ],
 "metadata": {
  "colab": {
   "provenance": []
  },
  "kernelspec": {
   "display_name": "Python 3 (ipykernel)",
   "language": "python",
   "name": "python3"
  },
  "language_info": {
   "codemirror_mode": {
    "name": "ipython",
    "version": 3
   },
   "file_extension": ".py",
   "mimetype": "text/x-python",
   "name": "python",
   "nbconvert_exporter": "python",
   "pygments_lexer": "ipython3",
   "version": "3.12.5"
  },
  "widgets": {
   "application/vnd.jupyter.widget-state+json": {
    "180e1ab40d4a4a0ebebc8d23db5a0ae4": {
     "model_module": "@jupyter-widgets/controls",
     "model_module_version": "1.5.0",
     "model_name": "VBoxModel",
     "state": {
      "_dom_classes": [],
      "_model_module": "@jupyter-widgets/controls",
      "_model_module_version": "1.5.0",
      "_model_name": "VBoxModel",
      "_view_count": null,
      "_view_module": "@jupyter-widgets/controls",
      "_view_module_version": "1.5.0",
      "_view_name": "VBoxView",
      "box_style": "",
      "children": [
       "IPY_MODEL_c3f90c81945747b683577031aa09c8f0",
       "IPY_MODEL_94d4ef931db7467799e59bfdf8b33590",
       "IPY_MODEL_7430a87cef56440c9984a612081b48a7",
       "IPY_MODEL_9de19619ea1f4ae3b0c7fe42d3326aa0"
      ],
      "layout": "IPY_MODEL_be603c2754744206bf44d9660079220d"
     }
    },
    "3fc1fcef34c44558a3e81ab646c5b8cc": {
     "model_module": "@jupyter-widgets/controls",
     "model_module_version": "1.5.0",
     "model_name": "TextModel",
     "state": {
      "_dom_classes": [],
      "_model_module": "@jupyter-widgets/controls",
      "_model_module_version": "1.5.0",
      "_model_name": "TextModel",
      "_view_count": null,
      "_view_module": "@jupyter-widgets/controls",
      "_view_module_version": "1.5.0",
      "_view_name": "TextView",
      "continuous_update": true,
      "description": "License UUID:",
      "description_tooltip": null,
      "disabled": false,
      "layout": "IPY_MODEL_dc7ceea5173544e9962645ee55d9dcea",
      "placeholder": "​",
      "style": "IPY_MODEL_b80fa6791a274b4f822d7cd630b92505",
      "value": ""
     }
    },
    "6040c2a500904075b67af223b0ad17b6": {
     "model_module": "@jupyter-widgets/base",
     "model_module_version": "1.2.0",
     "model_name": "LayoutModel",
     "state": {
      "_model_module": "@jupyter-widgets/base",
      "_model_module_version": "1.2.0",
      "_model_name": "LayoutModel",
      "_view_count": null,
      "_view_module": "@jupyter-widgets/base",
      "_view_module_version": "1.2.0",
      "_view_name": "LayoutView",
      "align_content": null,
      "align_items": null,
      "align_self": null,
      "border": null,
      "bottom": null,
      "display": null,
      "flex": null,
      "flex_flow": null,
      "grid_area": null,
      "grid_auto_columns": null,
      "grid_auto_flow": null,
      "grid_auto_rows": null,
      "grid_column": null,
      "grid_gap": null,
      "grid_row": null,
      "grid_template_areas": null,
      "grid_template_columns": null,
      "grid_template_rows": null,
      "height": null,
      "justify_content": null,
      "justify_items": null,
      "left": null,
      "margin": null,
      "max_height": null,
      "max_width": null,
      "min_height": null,
      "min_width": null,
      "object_fit": null,
      "object_position": null,
      "order": null,
      "overflow": null,
      "overflow_x": null,
      "overflow_y": null,
      "padding": null,
      "right": null,
      "top": null,
      "visibility": null,
      "width": null
     }
    },
    "71b9a506611e4e7cb7f3434c42124690": {
     "model_module": "@jupyter-widgets/base",
     "model_module_version": "1.2.0",
     "model_name": "LayoutModel",
     "state": {
      "_model_module": "@jupyter-widgets/base",
      "_model_module_version": "1.2.0",
      "_model_name": "LayoutModel",
      "_view_count": null,
      "_view_module": "@jupyter-widgets/base",
      "_view_module_version": "1.2.0",
      "_view_name": "LayoutView",
      "align_content": null,
      "align_items": null,
      "align_self": null,
      "border": null,
      "bottom": null,
      "display": null,
      "flex": null,
      "flex_flow": null,
      "grid_area": null,
      "grid_auto_columns": null,
      "grid_auto_flow": null,
      "grid_auto_rows": null,
      "grid_column": null,
      "grid_gap": null,
      "grid_row": null,
      "grid_template_areas": null,
      "grid_template_columns": null,
      "grid_template_rows": null,
      "height": null,
      "justify_content": null,
      "justify_items": null,
      "left": null,
      "margin": null,
      "max_height": null,
      "max_width": null,
      "min_height": null,
      "min_width": null,
      "object_fit": null,
      "object_position": null,
      "order": null,
      "overflow": null,
      "overflow_x": null,
      "overflow_y": null,
      "padding": null,
      "right": null,
      "top": null,
      "visibility": null,
      "width": null
     }
    },
    "7430a87cef56440c9984a612081b48a7": {
     "model_module": "@jupyter-widgets/output",
     "model_module_version": "1.0.0",
     "model_name": "OutputModel",
     "state": {
      "_dom_classes": [],
      "_model_module": "@jupyter-widgets/output",
      "_model_module_version": "1.0.0",
      "_model_name": "OutputModel",
      "_view_count": null,
      "_view_module": "@jupyter-widgets/output",
      "_view_module_version": "1.0.0",
      "_view_name": "OutputView",
      "layout": "IPY_MODEL_f5ca01c8bb224ed88be2d35c7e65d83b",
      "msg_id": "",
      "outputs": []
     }
    },
    "94d4ef931db7467799e59bfdf8b33590": {
     "model_module": "@jupyter-widgets/controls",
     "model_module_version": "1.5.0",
     "model_name": "HBoxModel",
     "state": {
      "_dom_classes": [],
      "_model_module": "@jupyter-widgets/controls",
      "_model_module_version": "1.5.0",
      "_model_name": "HBoxModel",
      "_view_count": null,
      "_view_module": "@jupyter-widgets/controls",
      "_view_module_version": "1.5.0",
      "_view_name": "HBoxView",
      "box_style": "",
      "children": [
       "IPY_MODEL_3fc1fcef34c44558a3e81ab646c5b8cc"
      ],
      "layout": "IPY_MODEL_6040c2a500904075b67af223b0ad17b6"
     }
    },
    "9de19619ea1f4ae3b0c7fe42d3326aa0": {
     "model_module": "@jupyter-widgets/output",
     "model_module_version": "1.0.0",
     "model_name": "OutputModel",
     "state": {
      "_dom_classes": [],
      "_model_module": "@jupyter-widgets/output",
      "_model_module_version": "1.0.0",
      "_model_name": "OutputModel",
      "_view_count": null,
      "_view_module": "@jupyter-widgets/output",
      "_view_module_version": "1.0.0",
      "_view_name": "OutputView",
      "layout": "IPY_MODEL_71b9a506611e4e7cb7f3434c42124690",
      "msg_id": "",
      "outputs": [
       {
        "name": "stdout",
        "output_type": "stream",
        "text": [
         "Licensed to AMPL Community Edition License for the AMPL Model Colaboratory (https://colab.ampl.com).\n"
        ]
       }
      ]
     }
    },
    "b80fa6791a274b4f822d7cd630b92505": {
     "model_module": "@jupyter-widgets/controls",
     "model_module_version": "1.5.0",
     "model_name": "DescriptionStyleModel",
     "state": {
      "_model_module": "@jupyter-widgets/controls",
      "_model_module_version": "1.5.0",
      "_model_name": "DescriptionStyleModel",
      "_view_count": null,
      "_view_module": "@jupyter-widgets/base",
      "_view_module_version": "1.2.0",
      "_view_name": "StyleView",
      "description_width": "initial"
     }
    },
    "be603c2754744206bf44d9660079220d": {
     "model_module": "@jupyter-widgets/base",
     "model_module_version": "1.2.0",
     "model_name": "LayoutModel",
     "state": {
      "_model_module": "@jupyter-widgets/base",
      "_model_module_version": "1.2.0",
      "_model_name": "LayoutModel",
      "_view_count": null,
      "_view_module": "@jupyter-widgets/base",
      "_view_module_version": "1.2.0",
      "_view_name": "LayoutView",
      "align_content": null,
      "align_items": null,
      "align_self": null,
      "border": null,
      "bottom": null,
      "display": null,
      "flex": null,
      "flex_flow": null,
      "grid_area": null,
      "grid_auto_columns": null,
      "grid_auto_flow": null,
      "grid_auto_rows": null,
      "grid_column": null,
      "grid_gap": null,
      "grid_row": null,
      "grid_template_areas": null,
      "grid_template_columns": null,
      "grid_template_rows": null,
      "height": null,
      "justify_content": null,
      "justify_items": null,
      "left": null,
      "margin": null,
      "max_height": null,
      "max_width": null,
      "min_height": null,
      "min_width": null,
      "object_fit": null,
      "object_position": null,
      "order": null,
      "overflow": null,
      "overflow_x": null,
      "overflow_y": null,
      "padding": null,
      "right": null,
      "top": null,
      "visibility": null,
      "width": null
     }
    },
    "c3f90c81945747b683577031aa09c8f0": {
     "model_module": "@jupyter-widgets/output",
     "model_module_version": "1.0.0",
     "model_name": "OutputModel",
     "state": {
      "_dom_classes": [],
      "_model_module": "@jupyter-widgets/output",
      "_model_module_version": "1.0.0",
      "_model_name": "OutputModel",
      "_view_count": null,
      "_view_module": "@jupyter-widgets/output",
      "_view_module_version": "1.0.0",
      "_view_name": "OutputView",
      "layout": "IPY_MODEL_d9ae709b159d42d98cfc00b68fe31bd2",
      "msg_id": "",
      "outputs": [
       {
        "name": "stdout",
        "output_type": "stream",
        "text": [
         "AMPL License UUID (you can use free https://ampl.com/ce or https://ampl.com/courses licenses):\n"
        ]
       }
      ]
     }
    },
    "d9ae709b159d42d98cfc00b68fe31bd2": {
     "model_module": "@jupyter-widgets/base",
     "model_module_version": "1.2.0",
     "model_name": "LayoutModel",
     "state": {
      "_model_module": "@jupyter-widgets/base",
      "_model_module_version": "1.2.0",
      "_model_name": "LayoutModel",
      "_view_count": null,
      "_view_module": "@jupyter-widgets/base",
      "_view_module_version": "1.2.0",
      "_view_name": "LayoutView",
      "align_content": null,
      "align_items": null,
      "align_self": null,
      "border": null,
      "bottom": null,
      "display": null,
      "flex": null,
      "flex_flow": null,
      "grid_area": null,
      "grid_auto_columns": null,
      "grid_auto_flow": null,
      "grid_auto_rows": null,
      "grid_column": null,
      "grid_gap": null,
      "grid_row": null,
      "grid_template_areas": null,
      "grid_template_columns": null,
      "grid_template_rows": null,
      "height": null,
      "justify_content": null,
      "justify_items": null,
      "left": null,
      "margin": null,
      "max_height": null,
      "max_width": null,
      "min_height": null,
      "min_width": null,
      "object_fit": null,
      "object_position": null,
      "order": null,
      "overflow": null,
      "overflow_x": null,
      "overflow_y": null,
      "padding": null,
      "right": null,
      "top": null,
      "visibility": null,
      "width": null
     }
    },
    "dc7ceea5173544e9962645ee55d9dcea": {
     "model_module": "@jupyter-widgets/base",
     "model_module_version": "1.2.0",
     "model_name": "LayoutModel",
     "state": {
      "_model_module": "@jupyter-widgets/base",
      "_model_module_version": "1.2.0",
      "_model_name": "LayoutModel",
      "_view_count": null,
      "_view_module": "@jupyter-widgets/base",
      "_view_module_version": "1.2.0",
      "_view_name": "LayoutView",
      "align_content": null,
      "align_items": null,
      "align_self": null,
      "border": null,
      "bottom": null,
      "display": null,
      "flex": null,
      "flex_flow": null,
      "grid_area": null,
      "grid_auto_columns": null,
      "grid_auto_flow": null,
      "grid_auto_rows": null,
      "grid_column": null,
      "grid_gap": null,
      "grid_row": null,
      "grid_template_areas": null,
      "grid_template_columns": null,
      "grid_template_rows": null,
      "height": null,
      "justify_content": null,
      "justify_items": null,
      "left": null,
      "margin": null,
      "max_height": null,
      "max_width": null,
      "min_height": null,
      "min_width": null,
      "object_fit": null,
      "object_position": null,
      "order": null,
      "overflow": null,
      "overflow_x": null,
      "overflow_y": null,
      "padding": null,
      "right": null,
      "top": null,
      "visibility": null,
      "width": null
     }
    },
    "f5ca01c8bb224ed88be2d35c7e65d83b": {
     "model_module": "@jupyter-widgets/base",
     "model_module_version": "1.2.0",
     "model_name": "LayoutModel",
     "state": {
      "_model_module": "@jupyter-widgets/base",
      "_model_module_version": "1.2.0",
      "_model_name": "LayoutModel",
      "_view_count": null,
      "_view_module": "@jupyter-widgets/base",
      "_view_module_version": "1.2.0",
      "_view_name": "LayoutView",
      "align_content": null,
      "align_items": null,
      "align_self": null,
      "border": null,
      "bottom": null,
      "display": null,
      "flex": null,
      "flex_flow": null,
      "grid_area": null,
      "grid_auto_columns": null,
      "grid_auto_flow": null,
      "grid_auto_rows": null,
      "grid_column": null,
      "grid_gap": null,
      "grid_row": null,
      "grid_template_areas": null,
      "grid_template_columns": null,
      "grid_template_rows": null,
      "height": null,
      "justify_content": null,
      "justify_items": null,
      "left": null,
      "margin": null,
      "max_height": null,
      "max_width": null,
      "min_height": null,
      "min_width": null,
      "object_fit": null,
      "object_position": null,
      "order": null,
      "overflow": null,
      "overflow_x": null,
      "overflow_y": null,
      "padding": null,
      "right": null,
      "top": null,
      "visibility": null,
      "width": null
     }
    }
   }
  }
 },
 "nbformat": 4,
 "nbformat_minor": 4
}
