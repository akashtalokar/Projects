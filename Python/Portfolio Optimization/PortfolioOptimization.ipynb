{
 "cells": [
  {
   "cell_type": "code",
   "execution_count": 1,
   "id": "1a2d0dc9-416d-44b4-ab17-a47ab3eec5a4",
   "metadata": {},
   "outputs": [],
   "source": [
    "#Python For Finance Portfolio Optimization [https://www.youtube.com/watch?v=9fjs8FeLMJk&list=WL&index=1] \n",
    "#Optimizing users' portfolio using EF"
   ]
  },
  {
   "cell_type": "code",
   "execution_count": 2,
   "id": "3cb12aeb-373d-4d2b-a5fe-a8f1477fca8b",
   "metadata": {},
   "outputs": [],
   "source": [
    "import pandas as pd \n",
    "from pandas_datareader import data as web \n",
    "import numpy as np \n",
    "from datetime import datetime \n",
    "import matplotlib.pyplot as plt \n",
    "import yfinance as yf\n",
    "plt.style.use('fivethirtyeight')"
   ]
  },
  {
   "cell_type": "code",
   "execution_count": 3,
   "id": "46b315a8-bea7-4f92-8bd6-3cf3516a3426",
   "metadata": {},
   "outputs": [],
   "source": [
    "#Get the tickers (stock symbols) in the portfolio \n",
    "#MAANG \n",
    "assets = ['META', 'AAPL', 'AMZN', 'NFLX', 'GOOG'] "
   ]
  },
  {
   "cell_type": "code",
   "execution_count": 4,
   "id": "1deb0fa9-53b7-46a3-9bf8-a7d54781966b",
   "metadata": {},
   "outputs": [],
   "source": [
    "#Assigning weights to the stocks\n",
    "weights = np.array([0.2, 0.2, 0.2, 0.2, 0.2])"
   ]
  },
  {
   "cell_type": "code",
   "execution_count": 5,
   "id": "e6d9e33a-6a0a-4f0c-9a14-52b51a8df26b",
   "metadata": {},
   "outputs": [],
   "source": [
    "#Get the portfolio stock starting date \n",
    "stockStartDate = '2013-01-01'"
   ]
  },
  {
   "cell_type": "code",
   "execution_count": 6,
   "id": "88c4c907-8ec6-4668-8671-856716f21426",
   "metadata": {},
   "outputs": [
    {
     "data": {
      "text/plain": [
       "'2024-09-16'"
      ]
     },
     "execution_count": 6,
     "metadata": {},
     "output_type": "execute_result"
    }
   ],
   "source": [
    "#Get the stock ending date \n",
    "today = datetime.today().strftime('%Y-%m-%d')\n",
    "today"
   ]
  },
  {
   "cell_type": "code",
   "execution_count": 7,
   "id": "090e7673-649e-420a-8698-9988ec87a240",
   "metadata": {},
   "outputs": [],
   "source": [
    "#Creating a dataframe to store the adjusted closing price of the stocks\n",
    "df = pd.DataFrame()"
   ]
  },
  {
   "cell_type": "code",
   "execution_count": 8,
   "id": "ca133a76-0cca-42eb-9c06-0cbcff61d71b",
   "metadata": {},
   "outputs": [
    {
     "name": "stderr",
     "output_type": "stream",
     "text": [
      "[*********************100%***********************]  5 of 5 completed\n"
     ]
    },
    {
     "data": {
      "text/html": [
       "<div>\n",
       "<style scoped>\n",
       "    .dataframe tbody tr th:only-of-type {\n",
       "        vertical-align: middle;\n",
       "    }\n",
       "\n",
       "    .dataframe tbody tr th {\n",
       "        vertical-align: top;\n",
       "    }\n",
       "\n",
       "    .dataframe thead th {\n",
       "        text-align: right;\n",
       "    }\n",
       "</style>\n",
       "<table border=\"1\" class=\"dataframe\">\n",
       "  <thead>\n",
       "    <tr style=\"text-align: right;\">\n",
       "      <th>Ticker</th>\n",
       "      <th>AAPL</th>\n",
       "      <th>AMZN</th>\n",
       "      <th>GOOG</th>\n",
       "      <th>META</th>\n",
       "      <th>NFLX</th>\n",
       "    </tr>\n",
       "    <tr>\n",
       "      <th>Date</th>\n",
       "      <th></th>\n",
       "      <th></th>\n",
       "      <th></th>\n",
       "      <th></th>\n",
       "      <th></th>\n",
       "    </tr>\n",
       "  </thead>\n",
       "  <tbody>\n",
       "    <tr>\n",
       "      <th>2013-01-02 00:00:00+00:00</th>\n",
       "      <td>16.705702</td>\n",
       "      <td>12.865500</td>\n",
       "      <td>17.969599</td>\n",
       "      <td>27.942579</td>\n",
       "      <td>13.144286</td>\n",
       "    </tr>\n",
       "    <tr>\n",
       "      <th>2013-01-03 00:00:00+00:00</th>\n",
       "      <td>16.494833</td>\n",
       "      <td>12.924000</td>\n",
       "      <td>17.980036</td>\n",
       "      <td>27.713053</td>\n",
       "      <td>13.798571</td>\n",
       "    </tr>\n",
       "    <tr>\n",
       "      <th>2013-01-04 00:00:00+00:00</th>\n",
       "      <td>16.035376</td>\n",
       "      <td>12.957500</td>\n",
       "      <td>18.335327</td>\n",
       "      <td>28.701021</td>\n",
       "      <td>13.711429</td>\n",
       "    </tr>\n",
       "    <tr>\n",
       "      <th>2013-01-07 00:00:00+00:00</th>\n",
       "      <td>15.941053</td>\n",
       "      <td>13.423000</td>\n",
       "      <td>18.255327</td>\n",
       "      <td>29.359669</td>\n",
       "      <td>14.171429</td>\n",
       "    </tr>\n",
       "    <tr>\n",
       "      <th>2013-01-08 00:00:00+00:00</th>\n",
       "      <td>15.983961</td>\n",
       "      <td>13.319000</td>\n",
       "      <td>18.219299</td>\n",
       "      <td>29.000406</td>\n",
       "      <td>13.880000</td>\n",
       "    </tr>\n",
       "    <tr>\n",
       "      <th>...</th>\n",
       "      <td>...</td>\n",
       "      <td>...</td>\n",
       "      <td>...</td>\n",
       "      <td>...</td>\n",
       "      <td>...</td>\n",
       "    </tr>\n",
       "    <tr>\n",
       "      <th>2024-09-09 00:00:00+00:00</th>\n",
       "      <td>220.910004</td>\n",
       "      <td>175.399994</td>\n",
       "      <td>149.539993</td>\n",
       "      <td>504.790009</td>\n",
       "      <td>675.419983</td>\n",
       "    </tr>\n",
       "    <tr>\n",
       "      <th>2024-09-10 00:00:00+00:00</th>\n",
       "      <td>220.110001</td>\n",
       "      <td>179.550003</td>\n",
       "      <td>150.009995</td>\n",
       "      <td>504.790009</td>\n",
       "      <td>673.619995</td>\n",
       "    </tr>\n",
       "    <tr>\n",
       "      <th>2024-09-11 00:00:00+00:00</th>\n",
       "      <td>222.660004</td>\n",
       "      <td>184.520004</td>\n",
       "      <td>152.149994</td>\n",
       "      <td>511.829987</td>\n",
       "      <td>681.469971</td>\n",
       "    </tr>\n",
       "    <tr>\n",
       "      <th>2024-09-12 00:00:00+00:00</th>\n",
       "      <td>222.770004</td>\n",
       "      <td>187.000000</td>\n",
       "      <td>155.539993</td>\n",
       "      <td>525.599976</td>\n",
       "      <td>686.799988</td>\n",
       "    </tr>\n",
       "    <tr>\n",
       "      <th>2024-09-13 00:00:00+00:00</th>\n",
       "      <td>222.500000</td>\n",
       "      <td>186.490005</td>\n",
       "      <td>158.369995</td>\n",
       "      <td>524.619995</td>\n",
       "      <td>697.059998</td>\n",
       "    </tr>\n",
       "  </tbody>\n",
       "</table>\n",
       "<p>2945 rows × 5 columns</p>\n",
       "</div>"
      ],
      "text/plain": [
       "Ticker                           AAPL        AMZN        GOOG        META  \\\n",
       "Date                                                                        \n",
       "2013-01-02 00:00:00+00:00   16.705702   12.865500   17.969599   27.942579   \n",
       "2013-01-03 00:00:00+00:00   16.494833   12.924000   17.980036   27.713053   \n",
       "2013-01-04 00:00:00+00:00   16.035376   12.957500   18.335327   28.701021   \n",
       "2013-01-07 00:00:00+00:00   15.941053   13.423000   18.255327   29.359669   \n",
       "2013-01-08 00:00:00+00:00   15.983961   13.319000   18.219299   29.000406   \n",
       "...                               ...         ...         ...         ...   \n",
       "2024-09-09 00:00:00+00:00  220.910004  175.399994  149.539993  504.790009   \n",
       "2024-09-10 00:00:00+00:00  220.110001  179.550003  150.009995  504.790009   \n",
       "2024-09-11 00:00:00+00:00  222.660004  184.520004  152.149994  511.829987   \n",
       "2024-09-12 00:00:00+00:00  222.770004  187.000000  155.539993  525.599976   \n",
       "2024-09-13 00:00:00+00:00  222.500000  186.490005  158.369995  524.619995   \n",
       "\n",
       "Ticker                           NFLX  \n",
       "Date                                   \n",
       "2013-01-02 00:00:00+00:00   13.144286  \n",
       "2013-01-03 00:00:00+00:00   13.798571  \n",
       "2013-01-04 00:00:00+00:00   13.711429  \n",
       "2013-01-07 00:00:00+00:00   14.171429  \n",
       "2013-01-08 00:00:00+00:00   13.880000  \n",
       "...                               ...  \n",
       "2024-09-09 00:00:00+00:00  675.419983  \n",
       "2024-09-10 00:00:00+00:00  673.619995  \n",
       "2024-09-11 00:00:00+00:00  681.469971  \n",
       "2024-09-12 00:00:00+00:00  686.799988  \n",
       "2024-09-13 00:00:00+00:00  697.059998  \n",
       "\n",
       "[2945 rows x 5 columns]"
      ]
     },
     "execution_count": 8,
     "metadata": {},
     "output_type": "execute_result"
    }
   ],
   "source": [
    "#Store the price \n",
    "df = yf.download(assets, start=stockStartDate, end=today)['Adj Close']\n",
    "\n",
    "#Show the df\n",
    "df"
   ]
  },
  {
   "cell_type": "code",
   "execution_count": 9,
   "id": "5264184a-d683-460a-8dcd-3efe0fd0881e",
   "metadata": {},
   "outputs": [
    {
     "data": {
      "image/png": "[encoded data removed]",
      "text/plain": [
       "<Figure size 640x480 with 1 Axes>"
      ]
     },
     "metadata": {},
     "output_type": "display_data"
    }
   ],
   "source": [
    "#Visualizing the stocks \n",
    "title = \"Portfolio Adjusted Close Price History\"\n",
    "\n",
    "#Get the stocks\n",
    "my_stocks = df \n",
    "\n",
    "#Create & plot the graph \n",
    "for c in my_stocks.columns.values:\n",
    "    plt.plot(my_stocks[c],label = c)\n",
    "\n",
    "plt.title(title)\n",
    "plt.xlabel('Date', fontsize=18)\n",
    "plt.ylabel('Adj Price in $', fontsize=18)\n",
    "plt.legend(my_stocks.columns.values)\n",
    "plt.show()"
   ]
  },
  {
   "cell_type": "code",
   "execution_count": 10,
   "id": "65161539-c62b-449c-b65b-f964ea662f72",
   "metadata": {},
   "outputs": [
    {
     "data": {
      "text/html": [
       "<div>\n",
       "<style scoped>\n",
       "    .dataframe tbody tr th:only-of-type {\n",
       "        vertical-align: middle;\n",
       "    }\n",
       "\n",
       "    .dataframe tbody tr th {\n",
       "        vertical-align: top;\n",
       "    }\n",
       "\n",
       "    .dataframe thead th {\n",
       "        text-align: right;\n",
       "    }\n",
       "</style>\n",
       "<table border=\"1\" class=\"dataframe\">\n",
       "  <thead>\n",
       "    <tr style=\"text-align: right;\">\n",
       "      <th>Ticker</th>\n",
       "      <th>AAPL</th>\n",
       "      <th>AMZN</th>\n",
       "      <th>GOOG</th>\n",
       "      <th>META</th>\n",
       "      <th>NFLX</th>\n",
       "    </tr>\n",
       "    <tr>\n",
       "      <th>Date</th>\n",
       "      <th></th>\n",
       "      <th></th>\n",
       "      <th></th>\n",
       "      <th></th>\n",
       "      <th></th>\n",
       "    </tr>\n",
       "  </thead>\n",
       "  <tbody>\n",
       "    <tr>\n",
       "      <th>2013-01-02 00:00:00+00:00</th>\n",
       "      <td>NaN</td>\n",
       "      <td>NaN</td>\n",
       "      <td>NaN</td>\n",
       "      <td>NaN</td>\n",
       "      <td>NaN</td>\n",
       "    </tr>\n",
       "    <tr>\n",
       "      <th>2013-01-03 00:00:00+00:00</th>\n",
       "      <td>-0.012623</td>\n",
       "      <td>0.004547</td>\n",
       "      <td>0.000581</td>\n",
       "      <td>-0.008214</td>\n",
       "      <td>0.049777</td>\n",
       "    </tr>\n",
       "    <tr>\n",
       "      <th>2013-01-04 00:00:00+00:00</th>\n",
       "      <td>-0.027855</td>\n",
       "      <td>0.002592</td>\n",
       "      <td>0.019760</td>\n",
       "      <td>0.035650</td>\n",
       "      <td>-0.006315</td>\n",
       "    </tr>\n",
       "    <tr>\n",
       "      <th>2013-01-07 00:00:00+00:00</th>\n",
       "      <td>-0.005882</td>\n",
       "      <td>0.035925</td>\n",
       "      <td>-0.004363</td>\n",
       "      <td>0.022949</td>\n",
       "      <td>0.033549</td>\n",
       "    </tr>\n",
       "    <tr>\n",
       "      <th>2013-01-08 00:00:00+00:00</th>\n",
       "      <td>0.002692</td>\n",
       "      <td>-0.007748</td>\n",
       "      <td>-0.001974</td>\n",
       "      <td>-0.012237</td>\n",
       "      <td>-0.020565</td>\n",
       "    </tr>\n",
       "    <tr>\n",
       "      <th>...</th>\n",
       "      <td>...</td>\n",
       "      <td>...</td>\n",
       "      <td>...</td>\n",
       "      <td>...</td>\n",
       "      <td>...</td>\n",
       "    </tr>\n",
       "    <tr>\n",
       "      <th>2024-09-09 00:00:00+00:00</th>\n",
       "      <td>0.000408</td>\n",
       "      <td>0.023397</td>\n",
       "      <td>-0.015731</td>\n",
       "      <td>0.009035</td>\n",
       "      <td>0.014494</td>\n",
       "    </tr>\n",
       "    <tr>\n",
       "      <th>2024-09-10 00:00:00+00:00</th>\n",
       "      <td>-0.003621</td>\n",
       "      <td>0.023660</td>\n",
       "      <td>0.003143</td>\n",
       "      <td>0.000000</td>\n",
       "      <td>-0.002665</td>\n",
       "    </tr>\n",
       "    <tr>\n",
       "      <th>2024-09-11 00:00:00+00:00</th>\n",
       "      <td>0.011585</td>\n",
       "      <td>0.027680</td>\n",
       "      <td>0.014266</td>\n",
       "      <td>0.013946</td>\n",
       "      <td>0.011653</td>\n",
       "    </tr>\n",
       "    <tr>\n",
       "      <th>2024-09-12 00:00:00+00:00</th>\n",
       "      <td>0.000494</td>\n",
       "      <td>0.013440</td>\n",
       "      <td>0.022281</td>\n",
       "      <td>0.026903</td>\n",
       "      <td>0.007821</td>\n",
       "    </tr>\n",
       "    <tr>\n",
       "      <th>2024-09-13 00:00:00+00:00</th>\n",
       "      <td>-0.001212</td>\n",
       "      <td>-0.002727</td>\n",
       "      <td>0.018195</td>\n",
       "      <td>-0.001864</td>\n",
       "      <td>0.014939</td>\n",
       "    </tr>\n",
       "  </tbody>\n",
       "</table>\n",
       "<p>2945 rows × 5 columns</p>\n",
       "</div>"
      ],
      "text/plain": [
       "Ticker                         AAPL      AMZN      GOOG      META      NFLX\n",
       "Date                                                                       \n",
       "2013-01-02 00:00:00+00:00       NaN       NaN       NaN       NaN       NaN\n",
       "2013-01-03 00:00:00+00:00 -0.012623  0.004547  0.000581 -0.008214  0.049777\n",
       "2013-01-04 00:00:00+00:00 -0.027855  0.002592  0.019760  0.035650 -0.006315\n",
       "2013-01-07 00:00:00+00:00 -0.005882  0.035925 -0.004363  0.022949  0.033549\n",
       "2013-01-08 00:00:00+00:00  0.002692 -0.007748 -0.001974 -0.012237 -0.020565\n",
       "...                             ...       ...       ...       ...       ...\n",
       "2024-09-09 00:00:00+00:00  0.000408  0.023397 -0.015731  0.009035  0.014494\n",
       "2024-09-10 00:00:00+00:00 -0.003621  0.023660  0.003143  0.000000 -0.002665\n",
       "2024-09-11 00:00:00+00:00  0.011585  0.027680  0.014266  0.013946  0.011653\n",
       "2024-09-12 00:00:00+00:00  0.000494  0.013440  0.022281  0.026903  0.007821\n",
       "2024-09-13 00:00:00+00:00 -0.001212 -0.002727  0.018195 -0.001864  0.014939\n",
       "\n",
       "[2945 rows x 5 columns]"
      ]
     },
     "execution_count": 10,
     "metadata": {},
     "output_type": "execute_result"
    }
   ],
   "source": [
    "#Daily simple Returns\n",
    "returns = df.pct_change()\n",
    "returns"
   ]
  },
  {
   "cell_type": "code",
   "execution_count": 11,
   "id": "afb0fde2-994a-4f8e-ad32-699ea77503c6",
   "metadata": {},
   "outputs": [
    {
     "data": {
      "text/html": [
       "<div>\n",
       "<style scoped>\n",
       "    .dataframe tbody tr th:only-of-type {\n",
       "        vertical-align: middle;\n",
       "    }\n",
       "\n",
       "    .dataframe tbody tr th {\n",
       "        vertical-align: top;\n",
       "    }\n",
       "\n",
       "    .dataframe thead th {\n",
       "        text-align: right;\n",
       "    }\n",
       "</style>\n",
       "<table border=\"1\" class=\"dataframe\">\n",
       "  <thead>\n",
       "    <tr style=\"text-align: right;\">\n",
       "      <th>Ticker</th>\n",
       "      <th>AAPL</th>\n",
       "      <th>AMZN</th>\n",
       "      <th>GOOG</th>\n",
       "      <th>META</th>\n",
       "      <th>NFLX</th>\n",
       "    </tr>\n",
       "    <tr>\n",
       "      <th>Ticker</th>\n",
       "      <th></th>\n",
       "      <th></th>\n",
       "      <th></th>\n",
       "      <th></th>\n",
       "      <th></th>\n",
       "    </tr>\n",
       "  </thead>\n",
       "  <tbody>\n",
       "    <tr>\n",
       "      <th>AAPL</th>\n",
       "      <td>0.079159</td>\n",
       "      <td>0.044821</td>\n",
       "      <td>0.042880</td>\n",
       "      <td>0.050237</td>\n",
       "      <td>0.041435</td>\n",
       "    </tr>\n",
       "    <tr>\n",
       "      <th>AMZN</th>\n",
       "      <td>0.044821</td>\n",
       "      <td>0.104952</td>\n",
       "      <td>0.055410</td>\n",
       "      <td>0.068318</td>\n",
       "      <td>0.069824</td>\n",
       "    </tr>\n",
       "    <tr>\n",
       "      <th>GOOG</th>\n",
       "      <td>0.042880</td>\n",
       "      <td>0.055410</td>\n",
       "      <td>0.075495</td>\n",
       "      <td>0.061347</td>\n",
       "      <td>0.052974</td>\n",
       "    </tr>\n",
       "    <tr>\n",
       "      <th>META</th>\n",
       "      <td>0.050237</td>\n",
       "      <td>0.068318</td>\n",
       "      <td>0.061347</td>\n",
       "      <td>0.147647</td>\n",
       "      <td>0.070706</td>\n",
       "    </tr>\n",
       "    <tr>\n",
       "      <th>NFLX</th>\n",
       "      <td>0.041435</td>\n",
       "      <td>0.069824</td>\n",
       "      <td>0.052974</td>\n",
       "      <td>0.070706</td>\n",
       "      <td>0.212118</td>\n",
       "    </tr>\n",
       "  </tbody>\n",
       "</table>\n",
       "</div>"
      ],
      "text/plain": [
       "Ticker      AAPL      AMZN      GOOG      META      NFLX\n",
       "Ticker                                                  \n",
       "AAPL    0.079159  0.044821  0.042880  0.050237  0.041435\n",
       "AMZN    0.044821  0.104952  0.055410  0.068318  0.069824\n",
       "GOOG    0.042880  0.055410  0.075495  0.061347  0.052974\n",
       "META    0.050237  0.068318  0.061347  0.147647  0.070706\n",
       "NFLX    0.041435  0.069824  0.052974  0.070706  0.212118"
      ]
     },
     "execution_count": 11,
     "metadata": {},
     "output_type": "execute_result"
    }
   ],
   "source": [
    " #Annualized covariance matrix \n",
    "cov_matrix = returns.cov() * 252\n",
    "cov_matrix"
   ]
  },
  {
   "cell_type": "code",
   "execution_count": 12,
   "id": "b1b2addf-ea95-4572-97d0-e2a6e88dc0db",
   "metadata": {},
   "outputs": [
    {
     "data": {
      "text/plain": [
       "0.06941104541332523"
      ]
     },
     "execution_count": 12,
     "metadata": {},
     "output_type": "execute_result"
    }
   ],
   "source": [
    "#Portfolio variance \n",
    "port_var = np.dot(weights.T, np.dot(cov_matrix, weights))\n",
    "port_var"
   ]
  },
  {
   "cell_type": "code",
   "execution_count": 13,
   "id": "ef6e955c-4c4d-46d1-ba4f-2cd0b8cb2eda",
   "metadata": {},
   "outputs": [
    {
     "data": {
      "text/plain": [
       "0.26345976052013187"
      ]
     },
     "execution_count": 13,
     "metadata": {},
     "output_type": "execute_result"
    }
   ],
   "source": [
    "#Portfolio Volatility (SD)\n",
    "port_volt = np.sqrt(port_var)\n",
    "port_volt"
   ]
  },
  {
   "cell_type": "code",
   "execution_count": 14,
   "id": "fbfed64a-9d8c-45a9-ac6e-f432a12f84cc",
   "metadata": {},
   "outputs": [
    {
     "data": {
      "text/plain": [
       "0.3073799733319747"
      ]
     },
     "execution_count": 14,
     "metadata": {},
     "output_type": "execute_result"
    }
   ],
   "source": [
    "#Annual Portfolio Return \n",
    "port_annual_ret = np.sum(returns.mean() * weights) * 252 \n",
    "port_annual_ret"
   ]
  },
  {
   "cell_type": "code",
   "execution_count": 15,
   "id": "05a0df14-8100-49d3-b8c8-4e1cd7e0af07",
   "metadata": {},
   "outputs": [
    {
     "name": "stdout",
     "output_type": "stream",
     "text": [
      "Expected Annual Return: 31.0%\n",
      "Annual Volatility(Risk): 26.0%\n",
      "Annual Variance: 7.000000000000001%\n"
     ]
    }
   ],
   "source": [
    "#Expected Annual Return, Variance & Volatility (Risk) \n",
    "per_ret = str(round(port_annual_ret, 2) * 100) + '%' \n",
    "per_volt = str(round(port_volt, 2) * 100) + '%' \n",
    "per_var = str(round(port_var, 2) * 100) + '%' \n",
    "\n",
    "print('Expected Annual Return: ' + per_ret)\n",
    "print('Annual Volatility(Risk): ' + per_volt)\n",
    "print('Annual Variance: ' + per_var)"
   ]
  },
  {
   "cell_type": "code",
   "execution_count": 16,
   "id": "3fa6e4e7-4f8a-473a-aa64-01c5f276bd3b",
   "metadata": {},
   "outputs": [],
   "source": [
    "from pypfopt.efficient_frontier import EfficientFrontier \n",
    "from pypfopt import risk_models\n",
    "from pypfopt import expected_returns "
   ]
  },
  {
   "cell_type": "code",
   "execution_count": 17,
   "id": "673a6aea-c1c0-4c4d-9739-1c726e25d641",
   "metadata": {},
   "outputs": [],
   "source": [
    "#Exp Returns & Annualized sample covariance matrix of asset returns \n",
    "mu = expected_returns.mean_historical_return(df)\n",
    "S = risk_models.sample_cov(df)"
   ]
  },
  {
   "cell_type": "code",
   "execution_count": 18,
   "id": "57b4b5ca-38e5-45b5-9a61-624f0cdd1164",
   "metadata": {},
   "outputs": [
    {
     "name": "stdout",
     "output_type": "stream",
     "text": [
      "OrderedDict([('AAPL', 0.45599), ('AMZN', 0.11892), ('GOOG', 0.0), ('META', 0.11372), ('NFLX', 0.31137)])\n",
      "Expected annual return: 30.2%\n",
      "Annual volatility: 27.3%\n",
      "Sharpe Ratio: 1.04\n"
     ]
    },
    {
     "data": {
      "text/plain": [
       "(0.30221053530886255, 0.27254496485474705, 1.0354641314297137)"
      ]
     },
     "execution_count": 18,
     "metadata": {},
     "output_type": "execute_result"
    }
   ],
   "source": [
    "#Optimize for max SR \n",
    "ef = EfficientFrontier(mu, S)\n",
    "weights = ef.max_sharpe()\n",
    "cleaned_weights = ef.clean_weights()\n",
    "print(cleaned_weights)\n",
    "ef.portfolio_performance(verbose = True)"
   ]
  },
  {
   "cell_type": "code",
   "execution_count": 19,
   "id": "5983f5d2-7623-44a0-a04b-c26079f069e9",
   "metadata": {},
   "outputs": [
    {
     "name": "stdout",
     "output_type": "stream",
     "text": [
      "Discrete Allocation:  {'AAPL': 30, 'AMZN': 10, 'META': 3, 'NFLX': 7}\n",
      "Funds Remaining: $6.82\n"
     ]
    }
   ],
   "source": [
    "#Get the discrete allocation of each share per stock \n",
    "from pypfopt.discrete_allocation import DiscreteAllocation, get_latest_prices \n",
    "\n",
    "latest_prices = get_latest_prices(df) \n",
    "weights = cleaned_weights\n",
    "da = DiscreteAllocation(weights, latest_prices, total_portfolio_value = 15000) #amt of money we willing to put in the portfolio \n",
    "\n",
    "allocation, leftover = da.lp_portfolio()\n",
    "print('Discrete Allocation: ', allocation)\n",
    "print('Funds Remaining: ${:.2f}'.format(leftover))"
   ]
  }
 ],
 "metadata": {
  "kernelspec": {
   "display_name": "Python 3 (ipykernel)",
   "language": "python",
   "name": "python3"
  },
  "language_info": {
   "codemirror_mode": {
    "name": "ipython",
    "version": 3
   },
   "file_extension": ".py",
   "mimetype": "text/x-python",
   "name": "python",
   "nbconvert_exporter": "python",
   "pygments_lexer": "ipython3",
   "version": "3.11.9"
  }
 },
 "nbformat": 4,
 "nbformat_minor": 5
}
