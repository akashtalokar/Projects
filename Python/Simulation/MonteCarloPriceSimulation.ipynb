{
 "cells": [
  {
   "cell_type": "code",
   "execution_count": 35,
   "id": "788ec2de",
   "metadata": {},
   "outputs": [],
   "source": [
    "import QuantLib as ql\n",
    "import numpy as np\n",
    "import matplotlib.pyplot as plt\n",
    "import pandas as pd\n",
    "\n",
    "import yfinance as yf\n",
    "from scipy.stats import norm\n",
    "from datetime import datetime"
   ]
  },
  {
   "cell_type": "code",
   "execution_count": 36,
   "id": "a6d1d02e",
   "metadata": {},
   "outputs": [
    {
     "name": "stderr",
     "output_type": "stream",
     "text": [
      "[*********************100%***********************]  1 of 1 completed\n"
     ]
    }
   ],
   "source": [
    "# Define the stock symbol\n",
    "symbol = \"AAPL\"\n",
    "expiry = ql.Date(8, 12, 2023)\n",
    "\n",
    "# Fetch option chain data from Yahoo Finance\n",
    "option_chain = yf.Ticker(symbol).options\n",
    "# Fetch historical stock data from Yahoo Finance\n",
    "stock_data = yf.download(symbol, start=\"2022-01-01\", end=\"2023-01-01\")\n",
    "S0 = stock_data['Close'].iloc[-1]  # Current stock price"
   ]
  },
  {
   "cell_type": "code",
   "execution_count": 37,
   "id": "e345d53d",
   "metadata": {},
   "outputs": [
    {
     "data": {
      "text/html": [
       "<div>\n",
       "<style scoped>\n",
       "    .dataframe tbody tr th:only-of-type {\n",
       "        vertical-align: middle;\n",
       "    }\n",
       "\n",
       "    .dataframe tbody tr th {\n",
       "        vertical-align: top;\n",
       "    }\n",
       "\n",
       "    .dataframe thead th {\n",
       "        text-align: right;\n",
       "    }\n",
       "</style>\n",
       "<table border=\"1\" class=\"dataframe\">\n",
       "  <thead>\n",
       "    <tr style=\"text-align: right;\">\n",
       "      <th></th>\n",
       "      <th>Open</th>\n",
       "      <th>High</th>\n",
       "      <th>Low</th>\n",
       "      <th>Close</th>\n",
       "      <th>Adj Close</th>\n",
       "      <th>Volume</th>\n",
       "    </tr>\n",
       "    <tr>\n",
       "      <th>Date</th>\n",
       "      <th></th>\n",
       "      <th></th>\n",
       "      <th></th>\n",
       "      <th></th>\n",
       "      <th></th>\n",
       "      <th></th>\n",
       "    </tr>\n",
       "  </thead>\n",
       "  <tbody>\n",
       "    <tr>\n",
       "      <th>2022-01-03</th>\n",
       "      <td>177.830002</td>\n",
       "      <td>182.880005</td>\n",
       "      <td>177.710007</td>\n",
       "      <td>182.009995</td>\n",
       "      <td>179.273590</td>\n",
       "      <td>104487900</td>\n",
       "    </tr>\n",
       "    <tr>\n",
       "      <th>2022-01-04</th>\n",
       "      <td>182.630005</td>\n",
       "      <td>182.940002</td>\n",
       "      <td>179.119995</td>\n",
       "      <td>179.699997</td>\n",
       "      <td>176.998352</td>\n",
       "      <td>99310400</td>\n",
       "    </tr>\n",
       "    <tr>\n",
       "      <th>2022-01-05</th>\n",
       "      <td>179.610001</td>\n",
       "      <td>180.169998</td>\n",
       "      <td>174.639999</td>\n",
       "      <td>174.919998</td>\n",
       "      <td>172.290222</td>\n",
       "      <td>94537600</td>\n",
       "    </tr>\n",
       "    <tr>\n",
       "      <th>2022-01-06</th>\n",
       "      <td>172.699997</td>\n",
       "      <td>175.300003</td>\n",
       "      <td>171.639999</td>\n",
       "      <td>172.000000</td>\n",
       "      <td>169.414108</td>\n",
       "      <td>96904000</td>\n",
       "    </tr>\n",
       "    <tr>\n",
       "      <th>2022-01-07</th>\n",
       "      <td>172.889999</td>\n",
       "      <td>174.139999</td>\n",
       "      <td>171.029999</td>\n",
       "      <td>172.169998</td>\n",
       "      <td>169.581528</td>\n",
       "      <td>86709100</td>\n",
       "    </tr>\n",
       "    <tr>\n",
       "      <th>...</th>\n",
       "      <td>...</td>\n",
       "      <td>...</td>\n",
       "      <td>...</td>\n",
       "      <td>...</td>\n",
       "      <td>...</td>\n",
       "      <td>...</td>\n",
       "    </tr>\n",
       "    <tr>\n",
       "      <th>2022-12-23</th>\n",
       "      <td>130.919998</td>\n",
       "      <td>132.419998</td>\n",
       "      <td>129.639999</td>\n",
       "      <td>131.860001</td>\n",
       "      <td>130.631348</td>\n",
       "      <td>63814900</td>\n",
       "    </tr>\n",
       "    <tr>\n",
       "      <th>2022-12-27</th>\n",
       "      <td>131.380005</td>\n",
       "      <td>131.410004</td>\n",
       "      <td>128.720001</td>\n",
       "      <td>130.029999</td>\n",
       "      <td>128.818420</td>\n",
       "      <td>69007800</td>\n",
       "    </tr>\n",
       "    <tr>\n",
       "      <th>2022-12-28</th>\n",
       "      <td>129.669998</td>\n",
       "      <td>131.029999</td>\n",
       "      <td>125.870003</td>\n",
       "      <td>126.040001</td>\n",
       "      <td>124.865593</td>\n",
       "      <td>85438400</td>\n",
       "    </tr>\n",
       "    <tr>\n",
       "      <th>2022-12-29</th>\n",
       "      <td>127.989998</td>\n",
       "      <td>130.479996</td>\n",
       "      <td>127.730003</td>\n",
       "      <td>129.610001</td>\n",
       "      <td>128.402328</td>\n",
       "      <td>75703700</td>\n",
       "    </tr>\n",
       "    <tr>\n",
       "      <th>2022-12-30</th>\n",
       "      <td>128.410004</td>\n",
       "      <td>129.949997</td>\n",
       "      <td>127.430000</td>\n",
       "      <td>129.929993</td>\n",
       "      <td>128.719376</td>\n",
       "      <td>77034200</td>\n",
       "    </tr>\n",
       "  </tbody>\n",
       "</table>\n",
       "<p>251 rows × 6 columns</p>\n",
       "</div>"
      ],
      "text/plain": [
       "                  Open        High         Low       Close   Adj Close  \\\n",
       "Date                                                                     \n",
       "2022-01-03  177.830002  182.880005  177.710007  182.009995  179.273590   \n",
       "2022-01-04  182.630005  182.940002  179.119995  179.699997  176.998352   \n",
       "2022-01-05  179.610001  180.169998  174.639999  174.919998  172.290222   \n",
       "2022-01-06  172.699997  175.300003  171.639999  172.000000  169.414108   \n",
       "2022-01-07  172.889999  174.139999  171.029999  172.169998  169.581528   \n",
       "...                ...         ...         ...         ...         ...   \n",
       "2022-12-23  130.919998  132.419998  129.639999  131.860001  130.631348   \n",
       "2022-12-27  131.380005  131.410004  128.720001  130.029999  128.818420   \n",
       "2022-12-28  129.669998  131.029999  125.870003  126.040001  124.865593   \n",
       "2022-12-29  127.989998  130.479996  127.730003  129.610001  128.402328   \n",
       "2022-12-30  128.410004  129.949997  127.430000  129.929993  128.719376   \n",
       "\n",
       "               Volume  \n",
       "Date                   \n",
       "2022-01-03  104487900  \n",
       "2022-01-04   99310400  \n",
       "2022-01-05   94537600  \n",
       "2022-01-06   96904000  \n",
       "2022-01-07   86709100  \n",
       "...               ...  \n",
       "2022-12-23   63814900  \n",
       "2022-12-27   69007800  \n",
       "2022-12-28   85438400  \n",
       "2022-12-29   75703700  \n",
       "2022-12-30   77034200  \n",
       "\n",
       "[251 rows x 6 columns]"
      ]
     },
     "execution_count": 37,
     "metadata": {},
     "output_type": "execute_result"
    }
   ],
   "source": [
    "stock_data"
   ]
  },
  {
   "cell_type": "code",
   "execution_count": 38,
   "id": "6c5d0900",
   "metadata": {},
   "outputs": [
    {
     "name": "stdout",
     "output_type": "stream",
     "text": [
      "        contractSymbol             lastTradeDate  strike  lastPrice  bid  ask  \\\n",
      "0  AAPL240913C00100000 2024-09-10 13:48:09+00:00   100.0     117.10  0.0  0.0   \n",
      "1  AAPL240913C00105000 2024-09-10 13:48:09+00:00   105.0     112.10  0.0  0.0   \n",
      "2  AAPL240913C00110000 2024-09-06 19:05:11+00:00   110.0     111.00  0.0  0.0   \n",
      "3  AAPL240913C00115000 2024-09-11 18:38:13+00:00   115.0     106.50  0.0  0.0   \n",
      "4  AAPL240913C00120000 2024-09-10 16:08:42+00:00   120.0      98.75  0.0  0.0   \n",
      "\n",
      "   change  percentChange  volume  openInterest  impliedVolatility  inTheMoney  \\\n",
      "0     0.0            0.0       1             0            0.00001        True   \n",
      "1     0.0            0.0       1             0            0.00001        True   \n",
      "2     0.0            0.0      14             0            0.00001        True   \n",
      "3     0.0            0.0       1             0            0.00001        True   \n",
      "4     0.0            0.0       2             0            0.00001        True   \n",
      "\n",
      "  contractSize currency  \n",
      "0      REGULAR      USD  \n",
      "1      REGULAR      USD  \n",
      "2      REGULAR      USD  \n",
      "3      REGULAR      USD  \n",
      "4      REGULAR      USD  \n"
     ]
    }
   ],
   "source": [
    "# Display the call option data\n",
    "call_data = yf.Ticker(symbol).option_chain(option_chain[0]).calls\n",
    "print(call_data.head())"
   ]
  },
  {
   "cell_type": "code",
   "execution_count": 39,
   "id": "55fbbf7b",
   "metadata": {},
   "outputs": [],
   "source": [
    "# Retrieve the strike price from the call option data\n",
    "strike_price = call_data.strike.iat[0]  # Assuming you want the strike price of the first call option\n",
    "closing_prices=call_data.lastPrice\n",
    "\n",
    "def calculate_volatility(returns):\n",
    "    return np.std(returns, ddof=1) * np.sqrt(252)\n",
    "returns=np.diff(np.log(closing_prices))\n",
    "historical_volatility = calculate_volatility(returns)\n",
    "time_duration = len(closing_prices) / 252"
   ]
  },
  {
   "cell_type": "code",
   "execution_count": 40,
   "id": "a614dce7",
   "metadata": {},
   "outputs": [],
   "source": [
    "def call_payoff(x):\n",
    "    return np.maximum(x - strike_price, 0)\n",
    "\n",
    "def put_payoff(x):\n",
    "    return np.maximum(strike_price - x, 0)"
   ]
  },
  {
   "cell_type": "code",
   "execution_count": 41,
   "id": "a78e94b6",
   "metadata": {},
   "outputs": [
    {
     "data": {
      "image/png": "[encoded data removed]",
      "text/plain": [
       "<Figure size 640x480 with 1 Axes>"
      ]
     },
     "metadata": {},
     "output_type": "display_data"
    }
   ],
   "source": [
    "# Plot payoff functions\n",
    "x_values = closing_prices\n",
    "plt.plot(x_values, call_payoff(x_values), label='Call', color='blue')\n",
    "plt.plot(x_values, put_payoff(x_values), label='Put', color='black')\n",
    "plt.legend()\n",
    "plt.title(\"Payoff Functions\")\n",
    "plt.xlabel(\"Stock Price\")\n",
    "plt.ylabel(\"$f(x)$\")\n",
    "plt.show()"
   ]
  },
  {
   "cell_type": "code",
   "execution_count": 42,
   "id": "3815761f",
   "metadata": {},
   "outputs": [],
   "source": [
    "def BSM_call_price(S, K, T, r, sigma):\n",
    "    d1 = (np.log(S / K) + (r + 0.5 * sigma**2) * T ) / (sigma * np.sqrt(T))\n",
    "    d2 = d1 - sigma * np.sqrt(T)\n",
    "    call_price = S * norm.cdf(d1) - K * np.exp(-r * T) * norm.cdf(d2)\n",
    "    return call_price"
   ]
  },
  {
   "cell_type": "code",
   "execution_count": 43,
   "id": "24b3623d",
   "metadata": {},
   "outputs": [],
   "source": [
    "# Option pricing parameters\n",
    "r = 0.05  # Risk-free rate\n",
    "T = 0.5  # Time to maturity (in years)\n",
    "#T = call_data['DaysDifference']  # Time to maturity (in years)\n",
    "sigma = historical_volatility # Volatility"
   ]
  },
  {
   "cell_type": "code",
   "execution_count": 44,
   "id": "315b6aca",
   "metadata": {},
   "outputs": [
    {
     "name": "stdout",
     "output_type": "stream",
     "text": [
      "Black-Scholes-Merton Call Option Price: 123.40808261936331\n"
     ]
    }
   ],
   "source": [
    "# Calculate call option price using Black-Scholes-Merton\n",
    "call_price_result = BSM_call_price(S0, strike_price,  T, r, sigma)\n",
    "print(f\"Black-Scholes-Merton Call Option Price: {call_price_result}\")"
   ]
  },
  {
   "cell_type": "code",
   "execution_count": 45,
   "id": "935ac542-cd35-4238-8dde-c78a3b49e829",
   "metadata": {},
   "outputs": [
    {
     "data": {
      "image/png": "[encoded data removed]",
      "text/plain": [
       "<Figure size 640x480 with 1 Axes>"
      ]
     },
     "metadata": {},
     "output_type": "display_data"
    }
   ],
   "source": [
    "# Monte Carlo simulation\n",
    "def monte_carlo_price(x, t, T, r, sigma, M, payoff_function):\n",
    "    spot_price = x\n",
    "    dt = (T - t) / M\n",
    "    random_numbers = np.random.randn(M // 2)\n",
    "    stock_prices = spot_price * np.exp((r - 0.5 * sigma**2) * (T - t) + sigma * np.sqrt(T - t) * random_numbers)\n",
    "\n",
    "    option_prices = [payoff_function(price) for price in stock_prices]\n",
    "    return np.mean(option_prices) * np.exp(-r * (T - t))\n",
    "\n",
    "# Perform Monte Carlo simulation\n",
    "monte_carlo_results = [monte_carlo_price(S0, 0, T, r, sigma, 100000, call_payoff) for _ in range(1000)]"
   ]
  },
  {
   "cell_type": "code",
   "execution_count": null,
   "id": "6649fc47-d759-4f6d-afa2-1836ffc48ef3",
   "metadata": {},
   "outputs": [],
   "source": [
    "# Plot histogram of Monte Carlo results\n",
    "plt.hist(monte_carlo_results, bins=30, color='green', alpha=0.7)\n",
    "plt.title('Monte Carlo Simulation Results')\n",
    "plt.xlabel('Option Price')\n",
    "plt.ylabel('Frequency')\n",
    "plt.show()"
   ]
  }
 ],
 "metadata": {
  "kernelspec": {
   "display_name": "Python 3 (ipykernel)",
   "language": "python",
   "name": "python3"
  },
  "language_info": {
   "codemirror_mode": {
    "name": "ipython",
    "version": 3
   },
   "file_extension": ".py",
   "mimetype": "text/x-python",
   "name": "python",
   "nbconvert_exporter": "python",
   "pygments_lexer": "ipython3",
   "version": "3.11.9"
  }
 },
 "nbformat": 4,
 "nbformat_minor": 5
}
